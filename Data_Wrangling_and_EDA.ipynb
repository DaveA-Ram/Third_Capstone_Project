{
 "cells": [
  {
   "cell_type": "code",
   "execution_count": 64,
   "id": "350b1121",
   "metadata": {},
   "outputs": [],
   "source": [
    "import pandas as pd\n",
    "import numpy as np\n",
    "import seaborn as sns\n",
    "import re\n",
    "import nltk\n",
    "import unicodedata\n",
    "import matplotlib.pyplot as plt\n",
    "from nltk import word_tokenize\n",
    "from nltk.util import ngrams\n",
    "from collections import Counter\n",
    "from nltk.corpus import stopwords\n",
    "from numpy import array\n",
    "from keras.preprocessing.text import one_hot\n",
    "from keras_preprocessing.sequence import pad_sequences\n",
    "from keras.models import Sequential\n",
    "from keras.layers.core import Activation, Dropout, Dense\n",
    "from keras.layers import Flatten\n",
    "from keras.layers import GlobalMaxPooling1D\n",
    "from keras.layers import Embedding\n",
    "from sklearn.model_selection import train_test_split\n",
    "from keras.preprocessing.text import Tokenizer"
   ]
  },
  {
   "cell_type": "code",
   "execution_count": 69,
   "id": "e226b16e",
   "metadata": {},
   "outputs": [
    {
     "name": "stderr",
     "output_type": "stream",
     "text": [
      "[nltk_data] Downloading package stopwords to\n",
      "[nltk_data]     C:\\Users\\IkanBalam\\AppData\\Roaming\\nltk_data...\n",
      "[nltk_data]   Unzipping corpora\\stopwords.zip.\n"
     ]
    },
    {
     "data": {
      "text/plain": [
       "True"
      ]
     },
     "execution_count": 69,
     "metadata": {},
     "output_type": "execute_result"
    }
   ],
   "source": [
    "nltk.download('stopwords')"
   ]
  },
  {
   "cell_type": "code",
   "execution_count": 71,
   "id": "6a718ee8",
   "metadata": {},
   "outputs": [
    {
     "name": "stderr",
     "output_type": "stream",
     "text": [
      "[nltk_data] Downloading package wordnet to\n",
      "[nltk_data]     C:\\Users\\IkanBalam\\AppData\\Roaming\\nltk_data...\n"
     ]
    },
    {
     "data": {
      "text/plain": [
       "True"
      ]
     },
     "execution_count": 71,
     "metadata": {},
     "output_type": "execute_result"
    }
   ],
   "source": [
    "nltk.download('wordnet')"
   ]
  },
  {
   "cell_type": "code",
   "execution_count": 51,
   "id": "6d60c6b6",
   "metadata": {},
   "outputs": [],
   "source": [
    "#Keeping a variable containing the original dataset for unforeseen demands of the dsm (data science method)\n",
    "disaster_tweets_original = pd.read_csv('train.csv')"
   ]
  },
  {
   "cell_type": "code",
   "execution_count": 10,
   "id": "3bedfd63",
   "metadata": {},
   "outputs": [],
   "source": [
    "disaster_tweets = pd.read_csv('train.csv')"
   ]
  },
  {
   "cell_type": "code",
   "execution_count": 13,
   "id": "fdcc11ed",
   "metadata": {},
   "outputs": [
    {
     "name": "stdout",
     "output_type": "stream",
     "text": [
      "<class 'pandas.core.frame.DataFrame'>\n",
      "RangeIndex: 7613 entries, 0 to 7612\n",
      "Data columns (total 5 columns):\n",
      " #   Column    Non-Null Count  Dtype \n",
      "---  ------    --------------  ----- \n",
      " 0   id        7613 non-null   int64 \n",
      " 1   keyword   7552 non-null   object\n",
      " 2   location  5080 non-null   object\n",
      " 3   text      7613 non-null   object\n",
      " 4   target    7613 non-null   int64 \n",
      "dtypes: int64(2), object(3)\n",
      "memory usage: 297.5+ KB\n"
     ]
    }
   ],
   "source": [
    "disaster_tweets.info()"
   ]
  },
  {
   "cell_type": "code",
   "execution_count": 16,
   "id": "7ec0196d",
   "metadata": {},
   "outputs": [],
   "source": [
    "#Only keeping the columns that are necessary for our NLP sentiment analysis problem\n",
    "disaster_tweets = disaster_tweets.drop(columns=['id', 'keyword', 'location'])"
   ]
  },
  {
   "cell_type": "code",
   "execution_count": 17,
   "id": "4feae91c",
   "metadata": {},
   "outputs": [
    {
     "data": {
      "text/html": [
       "<div>\n",
       "<style scoped>\n",
       "    .dataframe tbody tr th:only-of-type {\n",
       "        vertical-align: middle;\n",
       "    }\n",
       "\n",
       "    .dataframe tbody tr th {\n",
       "        vertical-align: top;\n",
       "    }\n",
       "\n",
       "    .dataframe thead th {\n",
       "        text-align: right;\n",
       "    }\n",
       "</style>\n",
       "<table border=\"1\" class=\"dataframe\">\n",
       "  <thead>\n",
       "    <tr style=\"text-align: right;\">\n",
       "      <th></th>\n",
       "      <th>text</th>\n",
       "      <th>target</th>\n",
       "    </tr>\n",
       "  </thead>\n",
       "  <tbody>\n",
       "    <tr>\n",
       "      <th>0</th>\n",
       "      <td>Our Deeds are the Reason of this #earthquake M...</td>\n",
       "      <td>1</td>\n",
       "    </tr>\n",
       "    <tr>\n",
       "      <th>1</th>\n",
       "      <td>Forest fire near La Ronge Sask. Canada</td>\n",
       "      <td>1</td>\n",
       "    </tr>\n",
       "    <tr>\n",
       "      <th>2</th>\n",
       "      <td>All residents asked to 'shelter in place' are ...</td>\n",
       "      <td>1</td>\n",
       "    </tr>\n",
       "    <tr>\n",
       "      <th>3</th>\n",
       "      <td>13,000 people receive #wildfires evacuation or...</td>\n",
       "      <td>1</td>\n",
       "    </tr>\n",
       "    <tr>\n",
       "      <th>4</th>\n",
       "      <td>Just got sent this photo from Ruby #Alaska as ...</td>\n",
       "      <td>1</td>\n",
       "    </tr>\n",
       "  </tbody>\n",
       "</table>\n",
       "</div>"
      ],
      "text/plain": [
       "                                                text  target\n",
       "0  Our Deeds are the Reason of this #earthquake M...       1\n",
       "1             Forest fire near La Ronge Sask. Canada       1\n",
       "2  All residents asked to 'shelter in place' are ...       1\n",
       "3  13,000 people receive #wildfires evacuation or...       1\n",
       "4  Just got sent this photo from Ruby #Alaska as ...       1"
      ]
     },
     "execution_count": 17,
     "metadata": {},
     "output_type": "execute_result"
    }
   ],
   "source": [
    "disaster_tweets.head()"
   ]
  },
  {
   "cell_type": "code",
   "execution_count": 19,
   "id": "5bda9fd8",
   "metadata": {},
   "outputs": [
    {
     "data": {
      "text/plain": [
       "(7613, 2)"
      ]
     },
     "execution_count": 19,
     "metadata": {},
     "output_type": "execute_result"
    }
   ],
   "source": [
    "disaster_tweets.shape"
   ]
  },
  {
   "cell_type": "code",
   "execution_count": 24,
   "id": "d1085326",
   "metadata": {},
   "outputs": [
    {
     "data": {
      "text/plain": [
       "\"I'm afraid that the tornado is coming to our area...\""
      ]
     },
     "execution_count": 24,
     "metadata": {},
     "output_type": "execute_result"
    }
   ],
   "source": [
    "#Sampling one of the texts from the text column to get an overview of the type of texts we will be working with and\n",
    "#processing\n",
    "disaster_tweets['text'][9]"
   ]
  },
  {
   "cell_type": "code",
   "execution_count": 32,
   "id": "d938a460",
   "metadata": {},
   "outputs": [],
   "source": [
    "#Created function here to remove html tags or anything between '<>'\n",
    "tag_removal_re = re.compile(r'<[^>]+>')\n",
    "\n",
    "def remove_tags(txt):\n",
    "    return tag_removal_re.sub('', txt)"
   ]
  },
  {
   "cell_type": "code",
   "execution_count": 33,
   "id": "b7373e4f",
   "metadata": {},
   "outputs": [],
   "source": [
    "#Created a function that takes a string from a text and preprocesses the string to remove any unnecessary characters\n",
    "def preprocessor(string):\n",
    "    #Removes html tags\n",
    "    clean_string = remove_tags(string)\n",
    "    \n",
    "    #Removes punctuations, numbers\n",
    "    clean_string = re.sub('[^a-zA-Z]', ' ', clean_string)\n",
    "    \n",
    "    #Removes single characters\n",
    "    clean_string = re.sub(r\"\\s+[a-zA-Z]\\s+\", ' ', clean_string)\n",
    "    \n",
    "    #Removes multiple spaces\n",
    "    clean_string = re.sub(r'\\s+', ' ', clean_string)\n",
    "    \n",
    "    return clean_string"
   ]
  },
  {
   "cell_type": "code",
   "execution_count": 34,
   "id": "e9a5fb5d",
   "metadata": {},
   "outputs": [],
   "source": [
    "#Continuing the preprocessing step of cleaning the text and storing cleaned up text in a new list\n",
    "clean_text = []\n",
    "strings = list(disaster_tweets['text'])\n",
    "for string in strings:\n",
    "    clean_text.append(preprocessor(string))"
   ]
  },
  {
   "cell_type": "code",
   "execution_count": 40,
   "id": "f6aae1ea",
   "metadata": {},
   "outputs": [
    {
     "data": {
      "text/plain": [
       "'I afraid that the tornado is coming to our area '"
      ]
     },
     "execution_count": 40,
     "metadata": {},
     "output_type": "execute_result"
    }
   ],
   "source": [
    "#Sampling one of the strings to view our preprocessing efforts\n",
    "clean_text[9]"
   ]
  },
  {
   "cell_type": "code",
   "execution_count": 45,
   "id": "bcc3c6ed",
   "metadata": {},
   "outputs": [
    {
     "data": {
      "image/png": "[encoded data removed]",
      "text/plain": [
       "<Figure size 432x288 with 1 Axes>"
      ]
     },
     "metadata": {
      "needs_background": "light"
     },
     "output_type": "display_data"
    }
   ],
   "source": [
    "#Getting a count of the distribution of the emergency and non-emergency tweets: non-emergency == 0; emergency == 1\n",
    "sns.countplot(x='target', data=disaster_tweets);"
   ]
  },
  {
   "cell_type": "code",
   "execution_count": 47,
   "id": "d63f6f43",
   "metadata": {},
   "outputs": [
    {
     "data": {
      "text/plain": [
       "0    4342\n",
       "1    3271\n",
       "Name: target, dtype: int64"
      ]
     },
     "execution_count": 47,
     "metadata": {},
     "output_type": "execute_result"
    }
   ],
   "source": [
    "#Getting a total count for both nonemergency(0) and emergency(1) tweets.\n",
    "disaster_tweets.target.value_counts()"
   ]
  },
  {
   "cell_type": "code",
   "execution_count": 67,
   "id": "7d22363c",
   "metadata": {},
   "outputs": [],
   "source": [
    "def processed_text(text):\n",
    "    #A function to clean the data. Words that are not identified as stop words are lemmatized after encoding and basic\n",
    "    #regex are applied\n",
    "    lem = nltk.stem.WordNetLemmatizer()\n",
    "    stopwords = nltk.corpus.stopwords.words('english')\n",
    "    text = (unicodedata.normalize('NFKD', text)\n",
    "           .encode('ascii', 'ignore')\n",
    "           .decode('utf-8', 'ignore')\n",
    "           .lower())\n",
    "    words = re.sub(r'[^\\w\\s]', '', text).split()\n",
    "    return [lem.lemmatize(word) for word in words if word not in stopwords]"
   ]
  },
  {
   "cell_type": "code",
   "execution_count": 72,
   "id": "8c107fcf",
   "metadata": {},
   "outputs": [],
   "source": [
    "#Converting the 'text' column of our dataframe into a list\n",
    "word_list = processed_text(''.join(str(disaster_tweets['text'].tolist())))"
   ]
  },
  {
   "cell_type": "code",
   "execution_count": 74,
   "id": "27f76b1b",
   "metadata": {},
   "outputs": [
    {
     "data": {
      "text/plain": [
       "['deed',\n",
       " 'reason',\n",
       " 'earthquake',\n",
       " 'may',\n",
       " 'allah',\n",
       " 'forgive',\n",
       " 'u',\n",
       " 'forest',\n",
       " 'fire',\n",
       " 'near',\n",
       " 'la',\n",
       " 'ronge',\n",
       " 'sask',\n",
       " 'canada',\n",
       " 'resident']"
      ]
     },
     "execution_count": 74,
     "metadata": {},
     "output_type": "execute_result"
    }
   ],
   "source": [
    "#EDA on the first 15 words of the newly created list of lemmatized words\n",
    "word_list[:15]"
   ]
  },
  {
   "cell_type": "code",
   "execution_count": 75,
   "id": "357baf6f",
   "metadata": {},
   "outputs": [],
   "source": [
    "#Creating a bigram from a sampling of the first 15 pairs of the dataset.\n",
    "bigram_count = pd.Series(nltk.ngrams(word_list, 2)).value_counts()[:15]"
   ]
  },
  {
   "cell_type": "code",
   "execution_count": 76,
   "id": "e95ad351",
   "metadata": {},
   "outputs": [
    {
     "name": "stdout",
     "output_type": "stream",
     "text": [
      "(suicide, bomber)         60\n",
      "(burning, building)       55\n",
      "(look, like)              49\n",
      "(body, bag)               48\n",
      "(youtube, video)          42\n",
      "(liked, youtube)          42\n",
      "(northern, california)    41\n",
      "(cross, body)             39\n",
      "(oil, spill)              39\n",
      "(california, wildfire)    36\n",
      "(suicide, bombing)        33\n",
      "(mass, murder)            32\n",
      "(70, year)                31\n",
      "(natural, disaster)       30\n",
      "(bomber, detonated)       30\n",
      "dtype: int64\n"
     ]
    }
   ],
   "source": [
    "print(bigram_count)"
   ]
  },
  {
   "cell_type": "code",
   "execution_count": 81,
   "id": "c10d16a0",
   "metadata": {},
   "outputs": [
    {
     "data": {
      "image/png": "[encoded data removed]",
      "text/plain": [
       "<Figure size 720x432 with 1 Axes>"
      ]
     },
     "metadata": {
      "needs_background": "light"
     },
     "output_type": "display_data"
    }
   ],
   "source": [
    "#Horizontal bar graph of the above bigram for EDA and visualization purposes\n",
    "bigram_count.sort_values().plot.barh(color='orange', width=.8, figsize=(10, 6));\n",
    "plt.title('Top 15 bigrams')\n",
    "plt.ylabel('Bigram')\n",
    "plt.xlabel('Total number of occurences');"
   ]
  },
  {
   "cell_type": "code",
   "execution_count": 82,
   "id": "ded09710",
   "metadata": {},
   "outputs": [],
   "source": [
    "#Creating a trigram from a sampling of the first 15 pairs of the dataset\n",
    "trigram_count = pd.Series(nltk.ngrams(word_list, 3)).value_counts()[:15]"
   ]
  },
  {
   "cell_type": "code",
   "execution_count": 83,
   "id": "58bf1872",
   "metadata": {},
   "outputs": [
    {
     "name": "stdout",
     "output_type": "stream",
     "text": [
      "(liked, youtube, video)                    42\n",
      "(suicide, bomber, detonated)               30\n",
      "(northern, california, wildfire)           29\n",
      "(latest, home, razed)                      28\n",
      "(home, razed, northern)                    28\n",
      "(pkk, suicide, bomber)                     28\n",
      "(bomber, detonated, bomb)                  28\n",
      "(old, pkk, suicide)                        27\n",
      "(16yr, old, pkk)                           27\n",
      "(razed, northern, california)              27\n",
      "(family, affected, fatal)                  26\n",
      "(40, family, affected)                     26\n",
      "(family, sue, legionnaire)                 26\n",
      "(affected, fatal, outbreak)                26\n",
      "(declares, disaster, typhoondevastated)    25\n",
      "dtype: int64\n"
     ]
    }
   ],
   "source": [
    "print(trigram_count)"
   ]
  },
  {
   "cell_type": "code",
   "execution_count": 94,
   "id": "e7e13f35",
   "metadata": {},
   "outputs": [
    {
     "data": {
      "image/png": "[encoded data removed]",
      "text/plain": [
       "<Figure size 720x432 with 1 Axes>"
      ]
     },
     "metadata": {
      "needs_background": "light"
     },
     "output_type": "display_data"
    }
   ],
   "source": [
    "#Horizontal bar graph of the above trigram for EDA and visualization purposes\n",
    "trigram_count.sort_values().plot.barh(color='brown', width=0.8, figsize=(10, 6));\n",
    "plt.title('Top 15 trigrams')\n",
    "plt.ylabel('Trigram')\n",
    "plt.xlabel('Total number of occurences');"
   ]
  }
 ],
 "metadata": {
  "kernelspec": {
   "display_name": "Python 3",
   "language": "python",
   "name": "python3"
  },
  "language_info": {
   "codemirror_mode": {
    "name": "ipython",
    "version": 3
   },
   "file_extension": ".py",
   "mimetype": "text/x-python",
   "name": "python",
   "nbconvert_exporter": "python",
   "pygments_lexer": "ipython3",
   "version": "3.8.8"
  }
 },
 "nbformat": 4,
 "nbformat_minor": 5
}
